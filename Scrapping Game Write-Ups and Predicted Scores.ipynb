{
 "cells": [
  {
   "cell_type": "code",
   "execution_count": 1,
   "metadata": {},
   "outputs": [
    {
     "name": "stderr",
     "output_type": "stream",
     "text": [
      "[nltk_data] Downloading package stopwords to\n",
      "[nltk_data]     C:\\Users\\Nicolas\\AppData\\Roaming\\nltk_data...\n",
      "[nltk_data]   Package stopwords is already up-to-date!\n"
     ]
    }
   ],
   "source": [
    "from bs4 import BeautifulSoup\n",
    "\n",
    "import urllib.request\n",
    "\n",
    "import nltk\n",
    "nltk.download('stopwords')\n",
    "\n",
    "response = urllib.request.urlopen('https://www.espn.com/nfl/story/_/id/27155205/week-1-nfl-game-picks-schedule-guide-fantasy-football-tips-more')\n",
    "\n",
    "html = response.read()\n",
    "\n",
    "print(html)"
   ]
  },
  {
   "cell_type": "code",
   "execution_count": 2,
   "metadata": {},
   "outputs": [
    {
     "name": "stdout",
     "output_type": "stream",
     "text": [
      "Week 1 NFL game picks, schedule guide, fantasy football tips and more\n"
     ]
    }
   ],
   "source": [
    "soup = BeautifulSoup(html,\"html5lib\")\n",
    "\n",
    "# You can pull contents of HTML elements using Beautiful Soup \n",
    "print(soup.title.string)"
   ]
  },
  {
   "cell_type": "code",
   "execution_count": null,
   "metadata": {},
   "outputs": [],
   "source": [
    "print(soup.prettify())"
   ]
  },
  {
   "cell_type": "code",
   "execution_count": 3,
   "metadata": {},
   "outputs": [],
   "source": [
    "# All the matches are wrapped in h2 tags so we specify those to pull which teams are playing\n",
    "write_ups = soup.find_all('p')\n",
    "#print(write_ups)"
   ]
  },
  {
   "cell_type": "code",
   "execution_count": 4,
   "metadata": {},
   "outputs": [],
   "source": [
    "team_write_ups = []\n",
    "for tag in write_ups:\n",
    "    write_up = tag.text.strip()\n",
    "    check_if_in = [\"for: \", \"d prediction: \", \"know: \", \"fantasy: \", \"nugget: \"]\n",
    "\n",
    "    if any(x in write_up for x in check_if_in):\n",
    "        team_write_ups.append(write_up)\n",
    "#print(team_write_ups)"
   ]
  },
  {
   "cell_type": "code",
   "execution_count": 5,
   "metadata": {},
   "outputs": [],
   "source": [
    "# All the predictions are wrapped in <p> tags so we specify those to pull which teams are playing\n",
    "predicted_scores = soup.find_all('strong')\n",
    "#print(predicted_scores)"
   ]
  },
  {
   "cell_type": "code",
   "execution_count": 6,
   "metadata": {},
   "outputs": [
    {
     "name": "stdout",
     "output_type": "stream",
     "text": [
      "[\"Teicher's pick:\", \"DiRocco's pick:\", \"Thiry's pick:\", \"Newton's pick:\", \"McClure's pick:\", \"Cronin's pick:\", \"Davenport's pick:\", \"Trotter's pick:\", \"Keim's pick:\", \"McManus' pick:\", \"Louis-Jacques' pick:\", \"Cimini's pick:\", \"Hensley's pick:\", \"Wolfe's pick:\", \"Wells' pick:\", \"Williams' pick:\", \"Baby's pick:\", \"Henderson's pick:\", \"Raanan's pick:\", \"Archer's pick:\", \"Wagoner's pick:\", \"Laine's pick:\", \"Rothstein's pick:\", \"Weinfuss' pick:\", \"Fowler's pick:\", \"Reiss' pick:\", \"Barshop's pick:\", \"Triplett's pick:\", \"Legwold's pick:\", \"Gutierrez's pick:\"]\n"
     ]
    }
   ],
   "source": [
    "week_predicted_scores = []\n",
    "for tag in predicted_scores:\n",
    "    prediction = tag.text.strip()\n",
    "    if \"pick:\" in prediction:\n",
    "      week_predicted_scores.append(prediction)\n",
    "print(week_predicted_scores)"
   ]
  },
  {
   "cell_type": "code",
   "execution_count": 7,
   "metadata": {},
   "outputs": [],
   "source": [
    "#print(\"WEEK 3 GAMEDAY PREDICTIONS\")\n",
    "#print(\"----------------------------\")\n",
    "week_writeups_dataframe = []\n",
    "combine_writeups_from_same_game = \"\"\n",
    "count = 1\n",
    "match = 0\n",
    "for i in range(len(team_write_ups)):\n",
    "    #print(team_write_ups[i])\n",
    "    combine_writeups_from_same_game = combine_writeups_from_same_game + \" \" + team_write_ups[i]\n",
    "    if (count % 5 == 0):\n",
    "        #print(\"\\n\")\n",
    "        #print(\"NEW MATCH WRITEUP\")\n",
    "        #print(\"-----------------\")\n",
    "        week_writeups_dataframe.append(combine_writeups_from_same_game)\n",
    "        combine_writeups_from_same_game = \"\"\n",
    "        match += 1\n",
    "    count += 1"
   ]
  },
  {
   "cell_type": "code",
   "execution_count": 8,
   "metadata": {},
   "outputs": [
    {
     "name": "stdout",
     "output_type": "stream",
     "text": [
      " What to watch for: Nobody is really sure what to expect out of the Jaguars' offense under new coordinator John DeFilippo and quarterback Nick Foles. Can the Jags score 30-plus points? That's what it'll probably take to beat the Chiefs, who look just as potent as they were last season. -- Michael DiRocco Bold prediction: Patrick Mahomes will throw at least two touchdown passes. That might not sound like a big deal for a QB who threw 50 of them last season, but remember the Jaguars were the only team to shut him out in that category in the regular season last year. -- Adam Teicher Stat to know: Tyreek Hill scored on each of his first two touches of the 2018 season (against the Chargers), a 91-yard punt return and a 58-yard reception. He has a league-high 302 receiving yards in season openers over the past two years, but the Jaguars did limit him to only four receptions for 61 yards in Week 5 last season. What to know for fantasy: Mahomes posted the best fantasy season ever by a quarterback (417.1 points), but the Jags are the fourth-best defense against quarterbacks since Doug Marrone took over in 2016. Only once last season did a QB go into Jacksonville and score 21-plus points (Carson Wentz). See Week 1 rankings. Betting nugget: Foles has covered seven straight games as an underdog, including six outright wins. Read more.\n",
      " What to watch for: Don't be surprised if Cam Newton tests his throwing shoulder early with at least two deep throws, probably to Curtis Samuel, to make the Rams play honest. He also won't be hesitant to run. He led the Panthers in rushing in last year's opener. -- David Newton Bold prediction: Todd Gurley will rush for more than 100 yards and will add a touchdown. He returns to the state where he grew up for the first time as a pro and is coming off arguably his most challenging offseason because of endless chatter about his left knee. -- Lindsey Thiry Stat to know: Jared Goff led the NFL with 116 completions of 10-plus air yards last season. The Panthers, meanwhile, gave up 16 passing touchdowns of at least 10 air yards in 2018, tied for the third most in the NFL. What to know for fantasy: Wide receiver Cooper Kupp returns to action after tearing his ACL last season. Kupp caught at least five passes in six of eight games last season and is averaging 1.3 red zone targets per game during his career (seventh best). See Week 1 rankings. Betting nugget: Super Bowl losers from the previous season are 3-16 against the spread (ATS) in Week 1 the following season since 2000. Read more.\n",
      " What to watch for: The Julio Jones-Xavier Rhodes matchup is always popcorn-worthy. A healthy Rhodes limited Jones to two catches for 24 yards in 2017 during one of his best years as a pro. But he is coming off a season riddled with injuries. -- Courtney Cronin Bold prediction: Miami friends and former Florida State Seminoles Dalvin Cook and Devonta Freeman will each go for 100 rushing yards. But it's Cook and the Vikings who come up with the win. -- Vaughn McClure Stat to know: Matt Ryan's 4,924 passing yards were third in the NFL last season, but the Vikings gave up only 196.3 passing yards per game -- also third in NFL. What to know for fantasy: The Falcons have given up the most running-back receptions in each of the past four seasons, and Cook ranked seventh among running backs in receptions last December. See Week 1 rankings. Betting nugget: Mike Zimmer is 52-29-2 ATS as a head coach, the best mark by any coach in the Super Bowl era (minimum 50 games), including 29-12-1 at home. Read more.\n",
      " What to watch for: The unveiling of the Baker Mayfield-Odell Beckham Jr. passing connection, which has a chance to be among the elite in the NFL, will be reason enough to tune in. How the duo fares in its debut will offer a glimpse of how dynamic this Browns offense can be in 2019. -- Jake Trotter Bold prediction: The Browns' offense is potent, but it will take time to get rolling in the season opener against a Titans defense that catches Cleveland at the perfect time. Derrick Henry runs for 125 yards and a touchdown. -- Turron Davenport Stat to know: Henry led the NFL with 585 rushing yards and seven rushing touchdowns over the final four weeks of last season. That success came from his bruising running style, as he led the NFL with 2.85 yards after contact per rush. What to know for fantasy: Mayfield was the only quarterback to throw for three touchdowns in Week 16 and Week 17 last season. See Week 1 rankings. Betting nugget: Cleveland is 0-13-1 outright and 4-9-1 ATS in its past 14 Week 1 games, but it did cover each of its past two season openers. Read more.\n",
      " What to watch for: The Eagles are anticipating Washington cornerback Josh Norman will shadow Alshon Jeffery most of the game. That's all the more reason for Carson Wentz to target his other outside receiver, DeSean Jackson, who has a history of monster games against his former teams. -- Tim McManus Bold prediction: Tight ends will do most of the damage in this matchup. The Redskins' Jordan Reed will catch five passes for 70 yards and a touchdown, and Eagles tight end Zach Ertz will continue his domination of Washington with seven catches for 80 yards and a score of his own. -- John Keim Stat to know: The Eagles are 8-2 in their past 10 season openers, tied for the best season-opening record in the NFL (with the Broncos and Patriots) during that span. Meanwhile, the Redskins have lost five of their past six season openers. What to know for fantasy: Wentz was one of three quarterbacks to throw for 300 yards and multiple touchdowns against the Redskins last season. See Week 1 rankings. Betting nugget: Philadelphia is 5-1 ATS in its past six season openers, and Washington is 1-5 ATS in that same span. Read more.\n",
      " What to watch for: Jets running back Le'Veon Bell makes his much-anticipated return to the NFL after sitting out the 2018 season because of a contract dispute with the Steelers. And second-year QBs Sam Darnold and Josh Allen, who are close friends, meet for the second time in what figures to be a long personal rivalry within the AFC East. Darnold leads Allen 1-0. -- Rich Cimini Bold prediction: Devin Singletary will score two touchdowns. The rookie running back has a role on the ground and in the passing game, and will find his way into the end zone in both capacities Sunday. -- Marcel Louis-Jacques Stat to know: Allen averaged 10.5 air yards per attempt last season for Buffalo, the second-highest rate in the NFL -- but he completed just 37% of his throws more than 10 yards downfield, which was the worst mark in the league. What to know for fantasy: Bell was RB2 the last time we saw him (2017), averaging 22.8 points per game. And there were four running backs last season who scored over 25 points in a game against the Bills (Marlon Mack, Melvin Gordon, Leonard Fournette and James White). See Week 1 rankings. Betting nugget: The underdog has won five of the past six -- and nine of the past 11 -- meetings between these two teams outright. Read more.\n",
      " What to watch for: Dolphins coaches' eyes widened when Baltimore quarterback Lamar Jackson was mentioned this week, and they highlighted his passing game improvement from Year 1 to Year 2. \"This is not a one-trick pony,\" coach Brian Flores said. -- Cameron Wolfe Bold prediction: Jackson gains over 100 yards rushing. He's opening the season against a Dolphins defense that allowed Bills QB Josh Allen to rush for 135 and 95 yards in two meetings last December. -- Jamison Hensley Stat to know: The Ravens have scored 54 unanswered points versus the Dolphins, including a 40-0 win in Week 8 of 2017. And the Ravens went 6-1 after naming Jackson the starting quarterback in Week 10 of 2018. What to know for fantasy: Jackson ranked sixth in rush attempts and seventh in rushing yards over the final seven weeks of 2018 ... among all positions. Over that stretch, Jackson had more rushing yards (556) and rushing touchdowns (4) than Christian McCaffrey. See Week 1 rankings. Betting nugget: Baltimore has covered each of the past eight meetings. But Miami has covered six straight season openers, the longest active streak in the league. Read more.\n",
      " What to watch for: With Andrew Luck's surprising retirement, how Jacoby Brissett plays in his absence will go a long way in determining the outcome. Head coach Frank Reich said Brissett just has to play within himself. \"The message is you don't have to be a hero,\" Reich said. -- Eric D. Williams Bold prediction: Running back Marlon Mack will rush for more than 100 yards. Mack rushed for 908 yards despite missing four games last season, and the Chargers gave up an average of 101.6 yards per game rushing last season and will be without starting Pro Bowl safety Derwin James (foot). -- Mike Wells Stat to know: The Bolts are 19-6 (.760) against the AFC South with Philip Rivers at quarterback, and the Colts have lost nine of their past 11 overall with Brissett as their starting quarterback. What to know for fantasy: For his career, T.Y. Hilton averages 1.76 fantasy points per target from Luck. That number dips with Brissett under center, but not as much as you might assume: 1.71 points per target (less than a 3% drop-off). See Week 1 rankings. Betting nugget: Indianapolis is 1-10 ATS in Week 1 in the past 11 seasons (2-9 straight up). Read more.\n",
      " What to watch for: The debuts of Jadeveon Clowney, Ezekiel Ansah and Zac Taylor are the headlines for this one. Seattle will want to ease Clowney (holdout) and Ansah (shoulder) in given that both are coming off extended absences, so don't expect a full workload from either. And Taylor will have his hands full in his debut as Cincinnati's new head coach. -- Brady Henderson Bold prediction: Clowney will have two sacks in his Seattle debut. He probably will be lined up against backup left tackle Andre Smith, the veteran who was signed two days before training camp. -- Ben Baby Stat to know: Joe Mixon rushed for 1,168 yards (fourth in the NFL) last season, and he now faces a Seahawks defense that gave up the third-most yards per rush (4.95). What to know for fantasy: In 2018, only Ezekiel Elliott had more runs of 15-plus yards than Mixon (23). See Week 1 rankings. Betting nugget: Seattle has won 10 straight home openers and is 7-2 ATS in nine home openers under Pete Carroll. Read more.\n",
      " What to watch for: How much will Ezekiel Elliott play after returning from his holdout and only three practices? In 2017, Elliott returned from a suspension and carried the ball 51 times for 200 yards in the final two games. This time he returns from a holdout with only one padded practice. -- Todd Archer Bold prediction: Jason Witten will have close to 100 yards receiving and two touchdowns in his first game out of retirement. The Dallas tight end has always feasted against the Giants, which includes four touchdowns in his past five games against them. -- Jordan Raanan Stat to know: When the Giants have more blockers than defenders in the box, Saquon Barkley takes full advantage. NFL Next Gen Stats has the Giants running back at 6.4 yards per rush last season in that situation, the highest rate of any RB with at least 40 such carries. What to know for fantasy: Barkley scored 49 total fantasy points in his two games against the Cowboys last season and did so in a variety of ways (14 catches in the first game, 109 yards on the ground in the second one). See Week 1 rankings. Betting nugget: New York was 7-1 ATS on the road last season, the best mark in the league. Read more.\n",
      " What to watch for: The Bucs might have a strong vertical passing attack under Bruce \"No Risk It, No Biscuit\" Arians, but the Niners' pass rush could really do some damage up front against an offensive line that surrendered a whopping 19 sacks in the preseason. -- Jenna Laine Bold prediction: The 49ers will match their interception total from all of last season by picking off Jameis Winston twice -- but Buccaneers receiver Mike Evans will have a huge game to even things out. -- Nick Wagoner Stat to know: Niners tight end George Kittle gained 855 of his 1,377 receiving yards last season after the catch, the most by any player since YAC was first tracked in 2006. What to know for fantasy: Only two teams gave up more deep touchdown passes than the 49ers last season, and Winston led the league in air yards per pass attempt. See Week 1 rankings. Betting nugget: San Francisco is 0-7 ATS and straight up in its past seven games where the total was in the 50s. Read more.\n",
      " What to watch for: The Cardinals' offense has been a tightly kept secret since coach Kliff Kingsbury was hired in January, leaving plenty of questions about how much Arizona will throw the ball. This will be our first real look. -- Josh Weinfuss Bold prediction: Arizona QB Kyler Murray ends up with 125 yards passing and 50 yards rushing in the first half, but the Lions' defense stifles him in the second half to force turnovers and give Detroit a come-from-behind win. -- Michael Rothstein Stat to know: Both Murray and Kingsbury are set to make their NFL debuts. According to Elias Sports Bureau research, they would be the third-youngest quarterback-head coach duo to make their NFL debuts in the same game since the merger in 1970 (the Raiders' Steve Beuerlein and Mike Shanahan in 1988, and the Colts' Bert Jones and Howard Schnellenberger in 1973). What to know for fantasy: Kerryon Johnson was RB10 over his final two games of 2018, and he gets a Cardinals defense that allowed the second-most fantasy points to opposing RBs last season. See Week 1 rankings. Betting nugget: Quarterbacks making their first career starts are 9-1-1 ATS since 2013 (8-0-1 ATS as the underdog). Read more.\n",
      " What to watch for: Tom Brady faces the Steelers' pass rush, which tied for an NFL-high 52 sacks last season, with backup center Ted Karras stepping in for David Andrews (IR, blood clots in lungs) and 2018 first-round pick Isaiah Wynn (IR as a rookie/torn Achilles) making his first career start at left tackle. How the Patriots' offensive line protects him might be the difference. -- Mike Reiss Bold prediction: The Steelers' improved defense will intercept Brady inside Gillette Stadium for the first time ever. Pittsburgh feels it finally has the playmakers in the back seven to match wits with Brady, who has never lost to Pittsburgh at home. -- Jeremy Fowler Stat to know: Brady has a 86.1 Total QBR against the Steelers since the metric was first tracked in 2006, his second-best QBR against a single opponent in that span (91.8 vs. the Bears). What to know for fantasy: In Sony Michel's past four games with at least 15 carries (playoffs included), he ran for seven touchdowns and averaged 22.3 fantasy points per game. See Week 1 rankings. Betting nugget: Pittsburgh was 5-0 ATS as an underdog (4-1 outright) last season, including a win vs. New England. But Brady is 7-3-1 ATS against Ben Roethlisberger. Read more.\n",
      " What to watch for: Saints players and coaches have downplayed the idea of a \"hangover effect\" from the NFC Championship Game, but it sure would help them move on if they could win their first season opener since 2013. -- Mike Triplett Bold prediction: Drew Brees throws for 400 yards. The Texans' defense lost Tyrann Mathieu, Kareem Jackson and Jadeveon Clowney this offseason, and even with some new additions, Brees and Michael Thomas could take advantage of the Texans' secondary. -- Sarah Barshop Stat to know: Brees becomes the sixth different quarterback to start a season opener at age 40 or older since 1950, joining Tom Brady, Brett Favre, Vinny Testaverde, Warren Moon and Johnny Unitas. And the Saints are 20-6 at home in prime time under Brees (2-0 last season). What to know for fantasy: Keke Coutee is unlikely to play, and Will Fuller went over 100 receiving yards with a touchdown in all three games he played with Coutee inactive in 2018. See Week 1 rankings. Betting nugget: Houston QB Deshaun Watson is 7-2 ATS as an underdog in his career (4-5 straight up). Read more.\n",
      " What to watch for: How emotionally drained will the Raiders be from the Antonio Brown on-again, off-again saga? The adrenaline rush from a season opener will carry the Raiders early, and an improved defense should hold the Broncos at bay. But with Brown officially released, Oakland will now move on without him. -- Paul Gutierrez Bold prediction: The Broncos sacked Derek Carr at least three times in three of their first four meetings but haven't sacked him more than twice in a game in any of the past five meetings. Denver will need to sack him at least four times Monday night to get a road win. -- Jeff Legwold Stat to know: The Broncos have won seven consecutive season openers, the longest active streak in the NFL and the longest streak in franchise history. But they've also lost three straight at the Raiders and three straight games on Monday Night Football -- all to AFC West opponents. What to know for fantasy: Denver allowed the fifth-most deep touchdown passes last season, and Tyrell Williams, likely stepping into a more prominent role than ever before, ranks fourth in yards per catch during his career (minimum 150 catches). See Week 1 rankings. Betting nugget: Denver is 5-13 ATS in its past 18 road games and 2-8 ATS in its past 10 divisional games. Read more.\n"
     ]
    }
   ],
   "source": [
    "for writeup in week_writeups_dataframe:\n",
    "    print(writeup)"
   ]
  },
  {
   "cell_type": "code",
   "execution_count": 9,
   "metadata": {},
   "outputs": [],
   "source": [
    "# All the predictions are wrapped in <p> tags so we specify those to pull which teams are playing\n",
    "predictions = soup.find_all('p')\n",
    "#print(predictions)"
   ]
  },
  {
   "cell_type": "code",
   "execution_count": 10,
   "metadata": {},
   "outputs": [
    {
     "name": "stdout",
     "output_type": "stream",
     "text": [
      "[\"Teicher's pick: Chiefs 34, Jaguars 24\\nDiRocco's pick: Chiefs 31, Jaguars 20\\nFPI prediction: KC, 58.2% (by an average of 3.0 points)\", \"Thiry's pick: Rams 28, Panthers 24\\nNewton's pick: Panthers 27, Rams 23\\nFPI prediction: LAR, 51.1% (by an average of 0.5 points)\", \"McClure's pick: Vikings 24, Falcons 21\\nCronin's pick: Vikings 24, Falcons 20\\nFPI prediction: MIN, 59.2% (by an average of 3.4 points)\", \"Davenport's pick: Titans 24, Browns 17\\nTrotter's pick: Browns 28, Titans 17\\nFPI prediction: CLE, 56.6% (by an average of 2.5 points)\", \"Keim's pick: Eagles 24, Redskins 13\\nMcManus' pick: Eagles 27, Redskins 17\\nFPI prediction: PHI, 77.9% (by an average of 11.1 points)\", \"Louis-Jacques' pick: Bills 24, Jets 16\\nCimini's pick: Jets 21, Bills 20\\nFPI prediction: NYJ, 59.3% (by an average of 3.4 points)\", \"Hensley's pick: Ravens 26, Dolphins 10\\nWolfe's pick: Ravens 24, Dolphins 13\\nFPI prediction: BAL, 63.1% (by an average of 4.9 points)\", \"Wells' pick: Chargers 21, Colts 17\\nWilliams' pick: Chargers 23, Colts 20\\nFPI prediction: LAC, 67.8% (by an average of 6.7 points)\", \"Baby's pick: Seahawks 31, Bengals 14\\nHenderson's pick: Seahawks 27, Bengals 17\\nFPI prediction: SEA, 77.0% (by an average of 10.7 points)\", \"Raanan's pick: Cowboys 26, Giants 16\\nArcher's pick: Cowboys 27, Giants 17\\nFPI prediction: DAL, 75.3% (by an average of 9.9 points)\", \"Wagoner's pick: Buccaneers 27, 49ers 24\\nLaine's pick: Buccaneers 24, 49ers 16\\nFPI prediction: TB, 52.0% (by an average of 0.8 points)\", \"Rothstein's pick: Lions 27, Cardinals 20\\nWeinfuss' pick: Lions 30, Cardinals 28\\nFPI prediction: DET, 50.9% (by an average of 0.4 points)\", \"Fowler's pick: Steelers 27, Patriots 20\\nReiss' pick: Patriots 27, Steelers 24\\nFPI prediction: NE, 65.1% (by an average of 5.6 points)\", \"Barshop's pick: Saints 35, Texans 20\\nTriplett's pick: Saints 29, Texans 23\\nFPI prediction: NO, 65.3% (by an average of 5.7 points)\", \"Legwold's pick: Broncos 23, Raiders 20\\nGutierrez's pick: Raiders 17, Broncos 16\\nFPI prediction: OAK, 51.7% (by an average of 0.7 points)\"]\n"
     ]
    }
   ],
   "source": [
    "week_predictions = []\n",
    "for tag in predictions:\n",
    "    prediction = tag.text.strip()\n",
    "    if \"pick:\" in prediction:\n",
    "      week_predictions.append(prediction)\n",
    "print(week_predictions)"
   ]
  },
  {
   "cell_type": "code",
   "execution_count": 11,
   "metadata": {},
   "outputs": [
    {
     "name": "stdout",
     "output_type": "stream",
     "text": [
      "75   Teicher's pick: Chiefs 34, Jaguars 24\n",
      "DiRocco's pick: Chiefs 31, Jaguars 20\n",
      "70   Thiry's pick: Rams 28, Panthers 24\n",
      "Newton's pick: Panthers 27, Rams 23\n",
      "76   McClure's pick: Vikings 24, Falcons 21\n",
      "Cronin's pick: Vikings 24, Falcons 20\n",
      "75   Davenport's pick: Titans 24, Browns 17\n",
      "Trotter's pick: Browns 28, Titans 17\n",
      "73   Keim's pick: Eagles 24, Redskins 13\n",
      "McManus' pick: Eagles 27, Redskins 17\n",
      "71   Louis-Jacques' pick: Bills 24, Jets 16\n",
      "Cimini's pick: Jets 21, Bills 20\n",
      "75   Hensley's pick: Ravens 26, Dolphins 10\n",
      "Wolfe's pick: Ravens 24, Dolphins 13\n",
      "72   Wells' pick: Chargers 21, Colts 17\n",
      "Williams' pick: Chargers 23, Colts 20\n",
      "78   Baby's pick: Seahawks 31, Bengals 14\n",
      "Henderson's pick: Seahawks 27, Bengals 17\n",
      "73   Raanan's pick: Cowboys 26, Giants 16\n",
      "Archer's pick: Cowboys 27, Giants 17\n",
      "77   Wagoner's pick: Buccaneers 27, 49ers 24\n",
      "Laine's pick: Buccaneers 24, 49ers 16\n",
      "79   Rothstein's pick: Lions 27, Cardinals 20\n",
      "Weinfuss' pick: Lions 30, Cardinals 28\n",
      "77   Fowler's pick: Steelers 27, Patriots 20\n",
      "Reiss' pick: Patriots 27, Steelers 24\n",
      "74   Barshop's pick: Saints 35, Texans 20\n",
      "Triplett's pick: Saints 29, Texans 23\n",
      "79   Legwold's pick: Broncos 23, Raiders 20\n",
      "Gutierrez's pick: Raiders 17, Broncos 16\n"
     ]
    }
   ],
   "source": [
    "sliced_week_predictions = []\n",
    "for prediction in week_predictions:\n",
    "    count = 0\n",
    "    i = 0\n",
    "    for letter in prediction:\n",
    "        if letter == \"\\n\":\n",
    "            count += 1\n",
    "        if count == 2:\n",
    "            sliced = prediction[0:i]\n",
    "            sliced_week_predictions.append(sliced)\n",
    "            print(i, \" \", sliced)\n",
    "            break\n",
    "        i += 1\n",
    "            "
   ]
  },
  {
   "cell_type": "code",
   "execution_count": 12,
   "metadata": {},
   "outputs": [],
   "source": [
    "import re\n",
    "weekly_scores = []\n",
    "for prediction in sliced_week_predictions:\n",
    "    weekly_scores.append(re.findall(r'\\b\\d+\\b', prediction))"
   ]
  },
  {
   "cell_type": "code",
   "execution_count": 13,
   "metadata": {},
   "outputs": [],
   "source": [
    "int_weekly_scores = []\n",
    "for score in weekly_scores:\n",
    "    int_weekly_scores.append([int(s) for s in score])"
   ]
  },
  {
   "cell_type": "code",
   "execution_count": 14,
   "metadata": {},
   "outputs": [
    {
     "name": "stdout",
     "output_type": "stream",
     "text": [
      "[[34, 24, 31, 20], [28, 24, 27, 23], [24, 21, 24, 20], [24, 17, 28, 17], [24, 13, 27, 17], [24, 16, 21, 20], [26, 10, 24, 13], [21, 17, 23, 20], [31, 14, 27, 17], [26, 16, 27, 17], [27, 24, 24, 16], [27, 20, 30, 28], [27, 20, 27, 24], [35, 20, 29, 23], [23, 20, 17, 16]]\n"
     ]
    }
   ],
   "source": [
    "print(int_weekly_scores)"
   ]
  },
  {
   "cell_type": "code",
   "execution_count": 15,
   "metadata": {},
   "outputs": [
    {
     "name": "stdout",
     "output_type": "stream",
     "text": [
      "27.25\n",
      "25.5\n",
      "22.25\n",
      "21.5\n",
      "20.25\n",
      "20.25\n",
      "18.25\n",
      "20.25\n",
      "22.25\n",
      "21.5\n",
      "22.75\n",
      "26.25\n",
      "24.5\n",
      "26.75\n",
      "19.0\n"
     ]
    }
   ],
   "source": [
    "average_predicted_score_game = []\n",
    "for score in int_weekly_scores:\n",
    "    predictOne = (score[0] + score[1]) / 2\n",
    "    predictTwo = (score[2] + score[3]) / 2\n",
    "    averagePredict = (predictOne + predictTwo) / 2\n",
    "    print(averagePredict)\n",
    "    average_predicted_score_game.append(averagePredict)"
   ]
  },
  {
   "cell_type": "code",
   "execution_count": 16,
   "metadata": {},
   "outputs": [],
   "source": [
    "high_or_low = []\n",
    "for score in average_predicted_score_game:\n",
    "    if score < 23.6:\n",
    "        high_or_low.append(\"LOW\")\n",
    "    else:\n",
    "        high_or_low.append(\"HIGH\")"
   ]
  },
  {
   "cell_type": "code",
   "execution_count": 17,
   "metadata": {},
   "outputs": [
    {
     "name": "stdout",
     "output_type": "stream",
     "text": [
      "HIGH\n",
      "HIGH\n",
      "LOW\n",
      "LOW\n",
      "LOW\n",
      "LOW\n",
      "LOW\n",
      "LOW\n",
      "LOW\n",
      "LOW\n",
      "LOW\n",
      "HIGH\n",
      "HIGH\n",
      "HIGH\n",
      "LOW\n"
     ]
    }
   ],
   "source": [
    "for score in high_or_low:\n",
    "    print(score)"
   ]
  },
  {
   "cell_type": "code",
   "execution_count": 18,
   "metadata": {},
   "outputs": [
    {
     "name": "stdout",
     "output_type": "stream",
     "text": [
      "                                             Write Up  Predicted Score  \\\n",
      "0    What to watch for: Nobody is really sure what...            27.25   \n",
      "1    What to watch for: Don't be surprised if Cam ...            25.50   \n",
      "2    What to watch for: The Julio Jones-Xavier Rho...            22.25   \n",
      "3    What to watch for: The unveiling of the Baker...            21.50   \n",
      "4    What to watch for: The Eagles are anticipatin...            20.25   \n",
      "5    What to watch for: Jets running back Le'Veon ...            20.25   \n",
      "6    What to watch for: Dolphins coaches' eyes wid...            18.25   \n",
      "7    What to watch for: With Andrew Luck's surpris...            20.25   \n",
      "8    What to watch for: The debuts of Jadeveon Clo...            22.25   \n",
      "9    What to watch for: How much will Ezekiel Elli...            21.50   \n",
      "10   What to watch for: The Bucs might have a stro...            22.75   \n",
      "11   What to watch for: The Cardinals' offense has...            26.25   \n",
      "12   What to watch for: Tom Brady faces the Steele...            24.50   \n",
      "13   What to watch for: Saints players and coaches...            26.75   \n",
      "14   What to watch for: How emotionally drained wi...            19.00   \n",
      "\n",
      "   High or Low  \n",
      "0         HIGH  \n",
      "1         HIGH  \n",
      "2          LOW  \n",
      "3          LOW  \n",
      "4          LOW  \n",
      "5          LOW  \n",
      "6          LOW  \n",
      "7          LOW  \n",
      "8          LOW  \n",
      "9          LOW  \n",
      "10         LOW  \n",
      "11        HIGH  \n",
      "12        HIGH  \n",
      "13        HIGH  \n",
      "14         LOW  \n"
     ]
    }
   ],
   "source": [
    "import pandas as pd\n",
    "df=pd.DataFrame()\n",
    "#df.columns=['Write Up', 'Predicted Score', \"High or Low\"] #provides a name for the column\n",
    "df['Write Up'] = week_writeups_dataframe\n",
    "df['Predicted Score'] = average_predicted_score_game\n",
    "df['High or Low'] = high_or_low\n",
    "print(df)"
   ]
  }
 ],
 "metadata": {
  "kernelspec": {
   "display_name": "Python 3",
   "language": "python",
   "name": "python3"
  },
  "language_info": {
   "codemirror_mode": {
    "name": "ipython",
    "version": 3
   },
   "file_extension": ".py",
   "mimetype": "text/x-python",
   "name": "python",
   "nbconvert_exporter": "python",
   "pygments_lexer": "ipython3",
   "version": "3.8.3"
  }
 },
 "nbformat": 4,
 "nbformat_minor": 4
}
