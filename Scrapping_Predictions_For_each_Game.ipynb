{
  "nbformat": 4,
  "nbformat_minor": 0,
  "metadata": {
    "colab": {
      "name": "Scrapping Predictions For each Game.ipynb",
      "provenance": [],
      "collapsed_sections": []
    },
    "kernelspec": {
      "name": "python3",
      "display_name": "Python 3"
    },
    "language_info": {
      "name": "python"
    }
  },
  "cells": [
    {
      "cell_type": "code",
      "metadata": {
        "id": "wER2lRdmd-tz"
      },
      "source": [
        "from bs4 import BeautifulSoup\n",
        "\n",
        "import urllib.request\n",
        "\n",
        "import nltk\n",
        "nltk.download('stopwords')\n",
        "\n",
        "response = urllib.request.urlopen('https://www.espn.com/nfl/story/_/id/32264147/nfl-week-3-game-picks-schedule-guide-fantasy-football-tips-odds-injuries-more')\n",
        "\n",
        "html = response.read()\n",
        "\n",
        "print(html)"
      ],
      "execution_count": null,
      "outputs": []
    },
    {
      "cell_type": "code",
      "metadata": {
        "colab": {
          "base_uri": "https://localhost:8080/"
        },
        "id": "tnyhUUUBgevu",
        "outputId": "db74603e-af58-4dfb-abbe-22f65ec33be6"
      },
      "source": [
        "soup = BeautifulSoup(html,\"html5lib\")\n",
        "\n",
        "# You can pull contents of HTML elements using Beautiful Soup \n",
        "print(soup.title.string)"
      ],
      "execution_count": 2,
      "outputs": [
        {
          "output_type": "stream",
          "name": "stdout",
          "text": [
            "NFL Week 3 game picks, schedule guide, fantasy football tips, odds, injuries and more\n"
          ]
        }
      ]
    },
    {
      "cell_type": "code",
      "metadata": {
        "id": "WbYn1IaOgkZ4"
      },
      "source": [
        "print(soup.prettify())"
      ],
      "execution_count": null,
      "outputs": []
    },
    {
      "cell_type": "code",
      "metadata": {
        "colab": {
          "base_uri": "https://localhost:8080/"
        },
        "id": "xCtw7hZ3hw28",
        "outputId": "ca90aa7c-38d3-4708-9539-7d76b5d4afe0"
      },
      "source": [
        "# All the matches are wrapped in h2 tags so we specify those to pull which teams are playing\n",
        "matches = soup.find_all('h2')\n",
        "print(matches)"
      ],
      "execution_count": 6,
      "outputs": [
        {
          "output_type": "stream",
          "name": "stdout",
          "text": [
            "[<h2><a href=\"/nfl/game/_/gameId/401326368\">Chargers (1-1) at Chiefs (1-1)</a></h2>, <h2><a href=\"/nfl/insider/story/_/id/32252283/predicting-nfl-week-3-upset-picks-fantasy-football-sleepers-flops-plus-buzz-notes-league\" name=\"&amp;lpos=story:editorspicks:inline:1\">Graziano and Fowler's Week 3 buzz, upset picks, fantasy sleepers: The NFL's most impressive players so far</a><div class=\"editorial--metadata icon-espnplus-before\"><span class=\"timestamp\">39d</span><span class=\"author\">Jeremy Fowler and Dan Graziano</span></div></h2>, <h2><a href=\"/nfl/insider/story/_/id/32257715/ranking-0-2-nfl-teams-2021-winless-giants-colts-vikings-others-make-playoffs\" name=\"&amp;lpos=story:editorspicks:inline:2\">Barnwell ranks the 0-2 NFL teams from done to long shot: Could the Giants and Colts still make the playoffs?</a><div class=\"editorial--metadata icon-espnplus-before\"><span class=\"timestamp\">39d</span><span class=\"author\">Bill Barnwell</span></div></h2>, <h2><a href=\"/fantasy/football/insider/story/_/id/32257964/fantasy-football-love-hate-greatest-mnf-comeback-fantasy-history\" name=\"&amp;lpos=story:editorspicks:inline:3\">Love, Hate and the greatest MNF comeback in fantasy history</a><div class=\"editorial--metadata icon-espnplus-before\"><span class=\"timestamp\">38d</span><span class=\"author\">Matthew Berry</span></div></h2>, <h2><a href=\"/nfl/game/_/gameId/401326369\">Saints (1-1) at Patriots (1-1)</a></h2>, <h2><a href=\"/nfl/game/_/gameId/401326364\">Washington (1-1) at Bills (1-1)</a></h2>, <h2><a href=\"/nfl/game/_/gameId/401326365\">Bears (1-1) at Browns (1-1)</a></h2>, <h2><a href=\"/nfl/game/_/gameId/401326366\">Ravens (1-1) at Lions (0-2)</a></h2>, <h2><a href=\"/nfl/game/_/gameId/401326371\">Bengals (1-1) at Steelers (1-1)</a></h2>, <h2><a href=\"/nfl/game/_/gameId/401326372\">Colts (0-2) at Titans (1-1)</a></h2>, <h2><a href=\"/nfl/game/_/gameId/401326367\">Cardinals (2-0) at Jaguars (0-2)</a></h2>, <h2><a href=\"/nfl/game/_/gameId/401326370\">Falcons (0-2) at Giants (0-2)</a></h2>, <h2><a href=\"/nfl/game/_/gameId/401326374\">Dolphins (1-1) at Raiders (2-0)</a></h2>, <h2><a href=\"/nfl/game/_/gameId/401326373\">Jets (0-2) at Broncos (2-0)</a></h2>, <h2><a href=\"/nfl/game/_/gameId/401326375\">Buccaneers (2-0) at Rams (2-0)</a></h2>, <h2><a href=\"/nfl/game/_/gameId/401326376\">Seahawks (1-1) at Vikings (0-2)</a></h2>, <h2><a href=\"/nfl/game/_/gameId/401326377\">Packers (1-1) at 49ers (2-0)</a></h2>, <h2><a href=\"/nfl/game/_/gameId/401326378\">Eagles (1-1) at Cowboys (1-1)</a></h2>]\n"
          ]
        }
      ]
    },
    {
      "cell_type": "code",
      "metadata": {
        "colab": {
          "base_uri": "https://localhost:8080/"
        },
        "id": "PRXY9GlWisw3",
        "outputId": "4ec15863-b0a0-467a-df88-ef0d45e131b4"
      },
      "source": [
        "week_matches = []\n",
        "for tag in matches:\n",
        "    match = tag.text.strip()\n",
        "    if \") at\" in match:\n",
        "      week_matches.append(match)\n",
        "print(week_matches)"
      ],
      "execution_count": 12,
      "outputs": [
        {
          "output_type": "stream",
          "name": "stdout",
          "text": [
            "['Chargers (1-1) at Chiefs (1-1)', 'Saints (1-1) at Patriots (1-1)', 'Washington (1-1) at Bills (1-1)', 'Bears (1-1) at Browns (1-1)', 'Ravens (1-1) at Lions (0-2)', 'Bengals (1-1) at Steelers (1-1)', 'Colts (0-2) at Titans (1-1)', 'Cardinals (2-0) at Jaguars (0-2)', 'Falcons (0-2) at Giants (0-2)', 'Dolphins (1-1) at Raiders (2-0)', 'Jets (0-2) at Broncos (2-0)', 'Buccaneers (2-0) at Rams (2-0)', 'Seahawks (1-1) at Vikings (0-2)', 'Packers (1-1) at 49ers (2-0)', 'Eagles (1-1) at Cowboys (1-1)']\n"
          ]
        }
      ]
    },
    {
      "cell_type": "code",
      "metadata": {
        "id": "PSG4Z8Rcj9fd"
      },
      "source": [
        "# All the predictions are wrapped in <p> tags so we specify those to pull which teams are playing\n",
        "predictions = soup.find_all('p')\n",
        "print(predictions)"
      ],
      "execution_count": null,
      "outputs": []
    },
    {
      "cell_type": "code",
      "metadata": {
        "colab": {
          "base_uri": "https://localhost:8080/"
        },
        "id": "Ji_sIIIikWFi",
        "outputId": "07d3de77-5e21-4e87-d309-769c7f850740"
      },
      "source": [
        "week_predictions = []\n",
        "for tag in predictions:\n",
        "    prediction = tag.text.strip()\n",
        "    if \"pick:\" in prediction:\n",
        "      week_predictions.append(prediction)\n",
        "print(week_predictions)"
      ],
      "execution_count": 17,
      "outputs": [
        {
          "output_type": "stream",
          "name": "stdout",
          "text": [
            "[\"Smith's pick: Chargers 31, Chiefs 27\\nTeicher's pick: Chiefs 34, Chargers 31\\nFPI prediction: KC, 72.5% (by an average of 8.5 points)\", \"Triplett's pick: Patriots 23, Saints 20\\nReiss' pick: Patriots 20, Saints 17\\nFPI prediction: NE, 58.6% (by an average of 3.1 points)\", \"Keim's pick: Bills 23, Washington 16\\nGetzenberg's pick: Bills 24, Washington 10\\nFPI prediction: BUF, 71.0% (by an average of 7.9 points)\", \"Dickerson's pick: Browns 24, Bears 21\\nTrotter's pick: Browns 27, Bears 23\\nFPI prediction: CLE, 70.3% (by an average of 7.6 points)\", \"Hensley's pick: Ravens 31, Lions 9\\nWoodyard's pick: Ravens 31, Lions 17\\nFPI prediction: BAL, 71.2% (by an average of 8.0 points)\", \"Baby's pick: Steelers 17, Bengals 13\\nPryor's pick: Steelers 23, Bengals 16\\nFPI prediction: PIT, 62.9% (by an average of 4.7 points)\", \"Wells' pick: Titans 30, Colts 13\\nDavenport's pick: Titans 28, Colts 17\\nFPI prediction: TEN, 58.5% (by an average of 3.1 points)\", \"Weinfuss' pick: Cardinals 41, Jaguars 20\\nDiRocco's pick: Arizona 33, Jaguars 17\\nFPI prediction: ARI, 65.4% (by an average of 5.6 points)\", \"Rothstein's pick: Giants 27, Falcons 24\\nRaanan's pick: Giants 31, Falcons 13\\nFPI prediction: NYG, 63.2% (by an average of 4.8 points)\", \"Louis-Jacques' pick: Raiders 21, Dolphins 13\\nGutierrez's pick: Raiders 27, Dolphins 16\\nFPI prediction: LV, 62.4% (by an average of 4.5 points)\", \"Cimini's pick: Broncos 31, Jets 14\\nLegwold's pick: Broncos 30, Jets 12\\nFPI prediction: DEN, 76.8% (by an average of 10.4 points)\", \"Laine's pick: Buccaneers 31, Rams 28\\nThiry's pick: Rams 28, Buccaneers 26\\nFPI prediction: LAR, 55.3% (by an average of 2.0 points)\", \"Henderson's pick: Seahawks 23, Vikings 21\\nCronin's pick: Vikings 28, Seahawks 27\\nFPI prediction: SEA, 50.1% (by an average of 0.1 points)\", \"Demovsky's pick: 49ers 29, Packers 22\\nWagoner's pick: 49ers 34, Packers 24\\nFPI prediction: SF, 61.4% (by an average of 4.2 points)\", \"McManus' pick: Cowboys 28, Eagles 26\\nArcher's pick: Cowboys 31, Eagles 23\\nFPI prediction: DAL, 67.1% (by an average of 6.3 points)\"]\n"
          ]
        }
      ]
    },
    {
      "cell_type": "code",
      "metadata": {
        "colab": {
          "base_uri": "https://localhost:8080/"
        },
        "id": "pmRQYx-vl9ZO",
        "outputId": "86201d25-40c4-403e-cc91-c20d1fd38ac3"
      },
      "source": [
        "print(\"WEEK 3 GAMEDAY PREDICTIONS\")\n",
        "print(\"----------------------------\")\n",
        "for i in range(len(week_matches)):\n",
        "  print(week_matches[i].upper())\n",
        "  print(week_predictions[i])\n",
        "  print(\"\\n\")"
      ],
      "execution_count": 24,
      "outputs": [
        {
          "output_type": "stream",
          "name": "stdout",
          "text": [
            "WEEK 3 GAMEDAY PREDICTIONS\n",
            "----------------------------\n",
            "CHARGERS (1-1) AT CHIEFS (1-1)\n",
            "Smith's pick: Chargers 31, Chiefs 27\n",
            "Teicher's pick: Chiefs 34, Chargers 31\n",
            "FPI prediction: KC, 72.5% (by an average of 8.5 points)\n",
            "\n",
            "\n",
            "SAINTS (1-1) AT PATRIOTS (1-1)\n",
            "Triplett's pick: Patriots 23, Saints 20\n",
            "Reiss' pick: Patriots 20, Saints 17\n",
            "FPI prediction: NE, 58.6% (by an average of 3.1 points)\n",
            "\n",
            "\n",
            "WASHINGTON (1-1) AT BILLS (1-1)\n",
            "Keim's pick: Bills 23, Washington 16\n",
            "Getzenberg's pick: Bills 24, Washington 10\n",
            "FPI prediction: BUF, 71.0% (by an average of 7.9 points)\n",
            "\n",
            "\n",
            "BEARS (1-1) AT BROWNS (1-1)\n",
            "Dickerson's pick: Browns 24, Bears 21\n",
            "Trotter's pick: Browns 27, Bears 23\n",
            "FPI prediction: CLE, 70.3% (by an average of 7.6 points)\n",
            "\n",
            "\n",
            "RAVENS (1-1) AT LIONS (0-2)\n",
            "Hensley's pick: Ravens 31, Lions 9\n",
            "Woodyard's pick: Ravens 31, Lions 17\n",
            "FPI prediction: BAL, 71.2% (by an average of 8.0 points)\n",
            "\n",
            "\n",
            "BENGALS (1-1) AT STEELERS (1-1)\n",
            "Baby's pick: Steelers 17, Bengals 13\n",
            "Pryor's pick: Steelers 23, Bengals 16\n",
            "FPI prediction: PIT, 62.9% (by an average of 4.7 points)\n",
            "\n",
            "\n",
            "COLTS (0-2) AT TITANS (1-1)\n",
            "Wells' pick: Titans 30, Colts 13\n",
            "Davenport's pick: Titans 28, Colts 17\n",
            "FPI prediction: TEN, 58.5% (by an average of 3.1 points)\n",
            "\n",
            "\n",
            "CARDINALS (2-0) AT JAGUARS (0-2)\n",
            "Weinfuss' pick: Cardinals 41, Jaguars 20\n",
            "DiRocco's pick: Arizona 33, Jaguars 17\n",
            "FPI prediction: ARI, 65.4% (by an average of 5.6 points)\n",
            "\n",
            "\n",
            "FALCONS (0-2) AT GIANTS (0-2)\n",
            "Rothstein's pick: Giants 27, Falcons 24\n",
            "Raanan's pick: Giants 31, Falcons 13\n",
            "FPI prediction: NYG, 63.2% (by an average of 4.8 points)\n",
            "\n",
            "\n",
            "DOLPHINS (1-1) AT RAIDERS (2-0)\n",
            "Louis-Jacques' pick: Raiders 21, Dolphins 13\n",
            "Gutierrez's pick: Raiders 27, Dolphins 16\n",
            "FPI prediction: LV, 62.4% (by an average of 4.5 points)\n",
            "\n",
            "\n",
            "JETS (0-2) AT BRONCOS (2-0)\n",
            "Cimini's pick: Broncos 31, Jets 14\n",
            "Legwold's pick: Broncos 30, Jets 12\n",
            "FPI prediction: DEN, 76.8% (by an average of 10.4 points)\n",
            "\n",
            "\n",
            "BUCCANEERS (2-0) AT RAMS (2-0)\n",
            "Laine's pick: Buccaneers 31, Rams 28\n",
            "Thiry's pick: Rams 28, Buccaneers 26\n",
            "FPI prediction: LAR, 55.3% (by an average of 2.0 points)\n",
            "\n",
            "\n",
            "SEAHAWKS (1-1) AT VIKINGS (0-2)\n",
            "Henderson's pick: Seahawks 23, Vikings 21\n",
            "Cronin's pick: Vikings 28, Seahawks 27\n",
            "FPI prediction: SEA, 50.1% (by an average of 0.1 points)\n",
            "\n",
            "\n",
            "PACKERS (1-1) AT 49ERS (2-0)\n",
            "Demovsky's pick: 49ers 29, Packers 22\n",
            "Wagoner's pick: 49ers 34, Packers 24\n",
            "FPI prediction: SF, 61.4% (by an average of 4.2 points)\n",
            "\n",
            "\n",
            "EAGLES (1-1) AT COWBOYS (1-1)\n",
            "McManus' pick: Cowboys 28, Eagles 26\n",
            "Archer's pick: Cowboys 31, Eagles 23\n",
            "FPI prediction: DAL, 67.1% (by an average of 6.3 points)\n",
            "\n",
            "\n"
          ]
        }
      ]
    }
  ]
}