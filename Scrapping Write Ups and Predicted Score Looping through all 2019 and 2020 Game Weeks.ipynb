{
 "cells": [
  {
   "cell_type": "code",
   "execution_count": 1,
   "metadata": {},
   "outputs": [
    {
     "name": "stderr",
     "output_type": "stream",
     "text": [
      "[nltk_data] Downloading package stopwords to\n",
      "[nltk_data]     C:\\Users\\Nicolas\\AppData\\Roaming\\nltk_data...\n",
      "[nltk_data]   Package stopwords is already up-to-date!\n"
     ]
    },
    {
     "data": {
      "text/plain": [
       "True"
      ]
     },
     "execution_count": 1,
     "metadata": {},
     "output_type": "execute_result"
    }
   ],
   "source": [
    "from bs4 import BeautifulSoup\n",
    "\n",
    "import urllib.request\n",
    "\n",
    "import nltk\n",
    "nltk.download('stopwords')"
   ]
  },
  {
   "cell_type": "code",
   "execution_count": 2,
   "metadata": {},
   "outputs": [
    {
     "data": {
      "text/html": [
       "<div>\n",
       "<style scoped>\n",
       "    .dataframe tbody tr th:only-of-type {\n",
       "        vertical-align: middle;\n",
       "    }\n",
       "\n",
       "    .dataframe tbody tr th {\n",
       "        vertical-align: top;\n",
       "    }\n",
       "\n",
       "    .dataframe thead th {\n",
       "        text-align: right;\n",
       "    }\n",
       "</style>\n",
       "<table border=\"1\" class=\"dataframe\">\n",
       "  <thead>\n",
       "    <tr style=\"text-align: right;\">\n",
       "      <th></th>\n",
       "      <th>Year</th>\n",
       "      <th>Week</th>\n",
       "      <th>URL</th>\n",
       "      <th>Unnamed: 3</th>\n",
       "    </tr>\n",
       "  </thead>\n",
       "  <tbody>\n",
       "    <tr>\n",
       "      <th>0</th>\n",
       "      <td>2019</td>\n",
       "      <td>1</td>\n",
       "      <td>https://www.espn.com/nfl/story/_/id/27155205/w...</td>\n",
       "      <td>NaN</td>\n",
       "    </tr>\n",
       "    <tr>\n",
       "      <th>1</th>\n",
       "      <td>2019</td>\n",
       "      <td>2</td>\n",
       "      <td>https://www.espn.com/nfl/story/_/id/27593208/w...</td>\n",
       "      <td>NaN</td>\n",
       "    </tr>\n",
       "    <tr>\n",
       "      <th>2</th>\n",
       "      <td>2019</td>\n",
       "      <td>3</td>\n",
       "      <td>https://www.espn.com/nfl/story/_/id/27646341/w...</td>\n",
       "      <td>NaN</td>\n",
       "    </tr>\n",
       "    <tr>\n",
       "      <th>3</th>\n",
       "      <td>2019</td>\n",
       "      <td>4</td>\n",
       "      <td>https://www.espn.com/nfl/story/_/id/27691599/w...</td>\n",
       "      <td>NaN</td>\n",
       "    </tr>\n",
       "    <tr>\n",
       "      <th>4</th>\n",
       "      <td>2019</td>\n",
       "      <td>5</td>\n",
       "      <td>https://www.espn.com/nfl/story/_/id/27752831/w...</td>\n",
       "      <td>NaN</td>\n",
       "    </tr>\n",
       "  </tbody>\n",
       "</table>\n",
       "</div>"
      ],
      "text/plain": [
       "   Year  Week                                                URL  Unnamed: 3\n",
       "0  2019     1  https://www.espn.com/nfl/story/_/id/27155205/w...         NaN\n",
       "1  2019     2  https://www.espn.com/nfl/story/_/id/27593208/w...         NaN\n",
       "2  2019     3  https://www.espn.com/nfl/story/_/id/27646341/w...         NaN\n",
       "3  2019     4  https://www.espn.com/nfl/story/_/id/27691599/w...         NaN\n",
       "4  2019     5  https://www.espn.com/nfl/story/_/id/27752831/w...         NaN"
      ]
     },
     "execution_count": 2,
     "metadata": {},
     "output_type": "execute_result"
    }
   ],
   "source": [
    "import pandas as pd\n",
    "import re\n",
    "game_weeks = pd.read_csv(\"~\\\\Data.csv\")\n",
    "game_weeks.head()"
   ]
  },
  {
   "cell_type": "code",
   "execution_count": 3,
   "metadata": {},
   "outputs": [
    {
     "name": "stdout",
     "output_type": "stream",
     "text": [
      "38\n"
     ]
    }
   ],
   "source": [
    "print(len(game_weeks))"
   ]
  },
  {
   "cell_type": "code",
   "execution_count": 4,
   "metadata": {},
   "outputs": [],
   "source": [
    "all_writeups = []\n",
    "all_predicted_score = []\n",
    "all_high_or_low = []"
   ]
  },
  {
   "cell_type": "code",
   "execution_count": 5,
   "metadata": {},
   "outputs": [],
   "source": [
    "for j in range(len(game_weeks)):\n",
    "    #print(game_weeks['URL'][i])\n",
    "    response = urllib.request.urlopen(game_weeks['URL'][j])\n",
    "    html = response.read()\n",
    "    soup = BeautifulSoup(html,\"html5lib\")\n",
    "\n",
    "    write_ups = soup.find_all('p')\n",
    "\n",
    "    team_write_ups = []\n",
    "    for tag in write_ups:\n",
    "        write_up = tag.text.strip()\n",
    "        check_if_in = [\"for: \", \"d prediction: \", \"know: \", \"stake: \", \"fantasy: \", \"nugget: \"]\n",
    "\n",
    "        if any(x in write_up for x in check_if_in):\n",
    "            team_write_ups.append(write_up)\n",
    "    \n",
    "    predicted_scores = soup.find_all('strong')\n",
    "    week_predicted_scores = []\n",
    "    for tag in predicted_scores:\n",
    "        prediction = tag.text.strip()\n",
    "        if \"pick:\" in prediction:\n",
    "          week_predicted_scores.append(prediction)\n",
    "        \n",
    "    week_writeups_dataframe = []\n",
    "    combine_writeups_from_same_game = \"\"\n",
    "    count = 1\n",
    "    match = 0\n",
    "    for i in range(len(team_write_ups)):\n",
    "        #print(team_write_ups[i])\n",
    "        combine_writeups_from_same_game = combine_writeups_from_same_game + \" \" + team_write_ups[i]\n",
    "        if (\"nugget: \" in team_write_ups[i]):\n",
    "            #print(\"\\n\")\n",
    "            #print(\"NEW MATCH WRITEUP\")\n",
    "            #print(\"-----------------\")\n",
    "            week_writeups_dataframe.append(combine_writeups_from_same_game)\n",
    "            combine_writeups_from_same_game = \"\"\n",
    "            match += 1\n",
    "        count += 1\n",
    "        \n",
    "    predictions = soup.find_all('p')\n",
    "    week_predictions = []\n",
    "    for tag in predictions:\n",
    "        prediction = tag.text.strip()\n",
    "        if \"pick:\" in prediction:\n",
    "          week_predictions.append(prediction)\n",
    "        \n",
    "    sliced_week_predictions = []\n",
    "    for prediction in week_predictions:\n",
    "        count = 0\n",
    "        i = 0\n",
    "        for letter in prediction:\n",
    "            if letter == \"\\n\":\n",
    "                count += 1\n",
    "            if count == 2:\n",
    "                sliced = prediction[0:i]\n",
    "                sliced_week_predictions.append(sliced)\n",
    "                #print(i, \" \", sliced)\n",
    "                break\n",
    "            i += 1\n",
    "    \n",
    "    weekly_scores = []\n",
    "    for prediction in sliced_week_predictions:\n",
    "        weekly_scores.append(re.findall(r'\\b\\d+\\b', prediction))\n",
    "    int_weekly_scores = []\n",
    "    for score in weekly_scores:\n",
    "        int_weekly_scores.append([int(s) for s in score])\n",
    "        \n",
    "    average_predicted_score_game = []\n",
    "    for score in int_weekly_scores:\n",
    "        predictOne = (score[0] + score[1]) / 2\n",
    "        predictTwo = (score[2] + score[3]) / 2\n",
    "        averagePredict = (predictOne + predictTwo) / 2\n",
    "        #print(averagePredict)\n",
    "        average_predicted_score_game.append(averagePredict)\n",
    "        \n",
    "    high_or_low = []\n",
    "    for score in average_predicted_score_game:\n",
    "        if score < 23.6:\n",
    "            high_or_low.append(\"LOW\")\n",
    "        else:\n",
    "            high_or_low.append(\"HIGH\")\n",
    "        \n",
    "    #df=pd.DataFrame()\n",
    "    #df.columns=['Write Up', 'Predicted Score', \"High or Low\"] #provides a name for the column\n",
    "    #df['Write Up'] = week_writeups_dataframe\n",
    "    #df['Predicted Score'] = average_predicted_score_game\n",
    "    #df['High or Low'] = high_or_low\n",
    "    \n",
    "    all_writeups += week_writeups_dataframe\n",
    "    all_predicted_score += average_predicted_score_game\n",
    "    all_high_or_low += high_or_low\n",
    "    \n",
    "    "
   ]
  },
  {
   "cell_type": "code",
   "execution_count": 6,
   "metadata": {},
   "outputs": [
    {
     "name": "stdout",
     "output_type": "stream",
     "text": [
      "                                              Write Up  Predicted Score  \\\n",
      "0     What to watch for: Nobody is really sure what...            27.25   \n",
      "1     What to watch for: Don't be surprised if Cam ...            25.50   \n",
      "2     What to watch for: The Julio Jones-Xavier Rho...            22.25   \n",
      "3     What to watch for: The unveiling of the Baker...            21.50   \n",
      "4     What to watch for: The Eagles are anticipatin...            20.25   \n",
      "..                                                 ...              ...   \n",
      "529   What to watch for: How will the Raiders compa...            26.75   \n",
      "530   What to watch for: The Bucs have survived a r...            22.00   \n",
      "531   What to watch for: It's not a homecoming beca...            24.00   \n",
      "532   What to watch for: Storylines abound here, wi...            26.00   \n",
      "533   What to watch for: Can Seahawks quarterback G...            23.00   \n",
      "\n",
      "    High or Low  \n",
      "0          HIGH  \n",
      "1          HIGH  \n",
      "2           LOW  \n",
      "3           LOW  \n",
      "4           LOW  \n",
      "..          ...  \n",
      "529        HIGH  \n",
      "530         LOW  \n",
      "531        HIGH  \n",
      "532        HIGH  \n",
      "533         LOW  \n",
      "\n",
      "[534 rows x 3 columns]\n"
     ]
    }
   ],
   "source": [
    "df=pd.DataFrame()\n",
    "df['Write Up'] = all_writeups\n",
    "df['Predicted Score'] = all_predicted_score\n",
    "df['High or Low'] = all_high_or_low\n",
    "print(df)"
   ]
  }
 ],
 "metadata": {
  "kernelspec": {
   "display_name": "Python 3",
   "language": "python",
   "name": "python3"
  },
  "language_info": {
   "codemirror_mode": {
    "name": "ipython",
    "version": 3
   },
   "file_extension": ".py",
   "mimetype": "text/x-python",
   "name": "python",
   "nbconvert_exporter": "python",
   "pygments_lexer": "ipython3",
   "version": "3.8.3"
  }
 },
 "nbformat": 4,
 "nbformat_minor": 4
}
